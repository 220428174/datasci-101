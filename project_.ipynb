{
 "cells": [
  {
   "cell_type": "markdown",
   "metadata": {},
   "source": [
    "# <span style=\"color:#0b486b\">SIT 112 - Data Science Concepts</span>\n",
    "# <span style=\"color:#0b486b\">Data Science Project</span>\n",
    "\n",
    "---\n",
    "Lecturer: Sergiy Shelyag | sergiy.shelyag@deakin.edu.au<br />\n",
    "\n",
    "School of Information Technology, <br />\n",
    "Deakin University, VIC 3215, Australia.\n",
    "\n",
    "### <span style=\"color:#0b486b\">Due: 10pm, Sunday of Week11, 20th September 2020</span>\n",
    "---\n"
   ]
  },
  {
   "cell_type": "markdown",
   "metadata": {},
   "source": [
    "### <span style=\"color:#0b486b\">Instructions</span>\n",
    "\n",
    "This notebook has been prepared for you to complete the Data Science Project. Some sections have been pre-filled  to help you get started. **The total mark for this task is 100**.\n",
    "\n",
    "There are two parts in this notebook that require you to complete:\n",
    "\n",
    "* **Part 1**: *Linear Regression* (**70 marks**)\n",
    "* **Part 2**: *Classification* (**30 marks**)\n",
    "\n",
    "Each part includes three main components:\n",
    " * **A:** Load a dataset from sklearn and examine it.\n",
    " * **B:** Build a training model and make predictions.\n",
    " * **C:** Report the results and visualize the data.\n",
    "\n",
    "Before you start, read the entire notebook carefully to understand what you need to do. You should also refer to the main instructions in *Project_instructions.pdf*  to know what else you need to complete for this project.\n",
    "\n",
    "As you go through this notebook:\n",
    "\n",
    "\n",
    "* markdown cells marked with **Note** mean description sections.\n",
    "\n",
    "\n",
    "* markdown cells marked with **Instructions** mean the instructions given to you to complete the sections.\n",
    "\n",
    "\n",
    "* Instructions marked with **(D)** and **(HD)** are for students aiming at high grades. They are more involved and can be completed after all other instructions.\n",
    "\n",
    "\n",
    "* For each cell marked with **#YOU ARE REQUIRED TO INSERT YOUR CODE IN THIS CELL**, there will be places where you **must** supply your own codes when instructed. <br><br>\n",
    "\n",
    "* For each cell marked with **#YOU ARE REQUIRED TO INSERT YOUR COMMENT IN THIS CELL**, there will be place where you **must** provide your own comment when instructed. <br><br>\n",
    "\n",
    "\n",
    "In the end, you must execute the entire notebook and submit two files:\n",
    "\n",
    " 1. The source of your solution notebook: **[YourID]_project_solution.ipynb**\n",
    " 2. And an exported version of your output: **[YourID]_project_output.html**\n",
    "       \n",
    "\n",
    "Please proceed with the instructions for each part below to complete your tasks."
   ]
  },
  {
   "cell_type": "markdown",
   "metadata": {},
   "source": [
    "**Note**: The following packages will be required for this assignment. If you need to import more packages, you might append them to the end of the following cell. "
   ]
  },
  {
   "cell_type": "code",
   "execution_count": 229,
   "metadata": {},
   "outputs": [],
   "source": [
    "'''\n",
    "Import packages needed for processing\n",
    "'''\n",
    "import numpy as np\n",
    "from sklearn import datasets\n",
    "import sklearn.metrics as metrics\n",
    "\n",
    "from sklearn import linear_model\n",
    "from sklearn import naive_bayes\n",
    "from sklearn.manifold import TSNE\n",
    "import matplotlib.pyplot as plt\n",
    "\n",
    "\n",
    "\n",
    "%matplotlib inline\n",
    "\n",
    "'''\n",
    "If you need add any additional packages, then add them below this line\n",
    "'''\n",
    "\n",
    "import statistics\n",
    "import scipy.stats\n",
    "import pandas as pd\n",
    "import csv\n",
    "from sklearn import neighbors\n",
    "from sklearn.naive_bayes import MultinomialNB\n",
    "from sklearn.metrics import f1_score, precision_score, recall_score, accuracy_score\n",
    "from sklearn.model_selection import train_test_split\n",
    "from sklearn.linear_model import LinearRegression\n",
    "from sklearn.metrics import mean_absolute_error\n",
    "from sklearn.metrics import mean_squared_error\n",
    "from numpy.random import randn\n",
    "from numpy.random import seed\n",
    "from scipy.stats import pearsonr\n",
    "import math"
   ]
  },
  {
   "cell_type": "code",
   "execution_count": 230,
   "metadata": {},
   "outputs": [],
   "source": [
    "from sklearn.datasets import load_linnerud"
   ]
  },
  {
   "cell_type": "markdown",
   "metadata": {},
   "source": [
    "# <span style=\"color:#0b486b\">Part 1: Linear Regression</span>\n",
    "\n",
    "In this part, you will be required to work on Linear Regression for the Linnerud dataset from sklearn.\n",
    "\n",
    "The Linnerud dataset is a multi-output regression dataset. It consists of three excercise (data) and three physiological (target) variables collected from twenty middle-aged men in a fitness club:\n",
    "\n",
    "physiological - containing 20 observations on 3 physiological variables:\n",
    "Weight, Waist and Pulse.\n",
    "\n",
    "exercise - containing 20 observations on 3 exercise variables:\n",
    "Chins, Situps and Jumps."
   ]
  },
  {
   "cell_type": "markdown",
   "metadata": {},
   "source": [
    "## Part 1A: Load and examine the Linnerud dataset"
   ]
  },
  {
   "cell_type": "markdown",
   "metadata": {},
   "source": [
    "**Instruction 1.1.** Write your code to load the **Linnerud** dataset from sklearn and assign it to a variable called `linnerud`.\n",
    "\n",
    "[**Total mark: 3**]"
   ]
  },
  {
   "cell_type": "code",
   "execution_count": 231,
   "metadata": {},
   "outputs": [
    {
     "name": "stdout",
     "output_type": "stream",
     "text": [
      "dict_keys(['data', 'feature_names', 'target', 'target_names', 'frame', 'DESCR', 'data_filename', 'target_filename'])\n"
     ]
    }
   ],
   "source": [
    "# YOU ARE REQUIRED TO INSERT YOUR CODES IN THIS CELL\n",
    "'''\n",
    "1. Write your code to load the **Linnerud** dataset from sklearn \n",
    "    and assign it to a variable called `linnerud`.\n",
    "'''\n",
    "\n",
    "\n",
    "linnerud = datasets.load_linnerud()\n",
    "\n",
    "print(linnerud.keys())"
   ]
  },
  {
   "cell_type": "markdown",
   "metadata": {},
   "source": [
    "**Note:** `linnerud` is a dictionary with two keys: *'data'* - a numpy array containing the features and *'target'* containing the labels. The cell code below assigns the data to variable `X` and the labels to variable `Y`. Run the cell and use `X` and `Y` for later tasks."
   ]
  },
  {
   "cell_type": "code",
   "execution_count": 232,
   "metadata": {},
   "outputs": [],
   "source": [
    "X = linnerud['data']\n",
    "Y = linnerud['target']\n",
    "feature_names_X = linnerud['feature_names']\n",
    "label_names_Y = linnerud['target_names']"
   ]
  },
  {
   "cell_type": "markdown",
   "metadata": {},
   "source": [
    "**Instruction 1.2.** Now you need to examine the size and structure of the dataset. \n",
    "\n",
    "**Your tasks are:**\n",
    "1. Write your code to find and print out the number of **samples** and the number of **features** in the dataset. (1 mark)\n",
    "2. Print the feature and label names for the dataset. (1 mark)\n",
    "\n",
    "[**Total mark: 2**]"
   ]
  },
  {
   "cell_type": "code",
   "execution_count": 233,
   "metadata": {},
   "outputs": [
    {
     "name": "stdout",
     "output_type": "stream",
     "text": [
      "The number of features: 3\n",
      "The number of samples: 20\n",
      "The names of the features are:  Chins, Situps, Jumps\n",
      "The names of the labels are:  Weight, Waist, Pulse\n"
     ]
    }
   ],
   "source": [
    "# YOU ARE REQUIRED TO INSERT YOUR CODES IN THIS CELL\n",
    "'''\n",
    "1. Write your code to find and print out the number of **samples** \n",
    "    and the number of **features** in the dataset.\n",
    "    Using variable X.\n",
    "'''\n",
    "\n",
    "print('The number of features:', len(linnerud.feature_names))\n",
    "print('The number of samples:' , len(linnerud.data))\n",
    "\n",
    "# 2. Print the feature and label names for the dataset.\n",
    "print('The names of the features are: ',', '.join(linnerud.feature_names))\n",
    "print('The names of the labels are: ',', '.join(linnerud.target_names))"
   ]
  },
  {
   "cell_type": "code",
   "execution_count": 234,
   "metadata": {},
   "outputs": [
    {
     "name": "stdout",
     "output_type": "stream",
     "text": [
      "The number of samples:\n"
     ]
    },
    {
     "ename": "NameError",
     "evalue": "name 'linnderud' is not defined",
     "output_type": "error",
     "traceback": [
      "\u001b[1;31m---------------------------------------------------------------------------\u001b[0m",
      "\u001b[1;31mNameError\u001b[0m                                 Traceback (most recent call last)",
      "\u001b[1;32m<ipython-input-234-2423beac8e02>\u001b[0m in \u001b[0;36m<module>\u001b[1;34m\u001b[0m\n\u001b[0;32m      8\u001b[0m \u001b[0mprint\u001b[0m\u001b[1;33m(\u001b[0m\u001b[1;34m'The number of samples:'\u001b[0m\u001b[1;33m)\u001b[0m\u001b[1;33m\u001b[0m\u001b[1;33m\u001b[0m\u001b[0m\n\u001b[0;32m      9\u001b[0m \u001b[1;31m# INSERT YOUR CODE HERE\u001b[0m\u001b[1;33m\u001b[0m\u001b[1;33m\u001b[0m\u001b[1;33m\u001b[0m\u001b[0m\n\u001b[1;32m---> 10\u001b[1;33m \u001b[0mprint\u001b[0m\u001b[1;33m(\u001b[0m\u001b[1;34m'Samples within the data set: '\u001b[0m\u001b[1;33m,\u001b[0m\u001b[0mlen\u001b[0m\u001b[1;33m(\u001b[0m\u001b[0mlinnderud\u001b[0m\u001b[1;33m.\u001b[0m\u001b[0mdata\u001b[0m\u001b[1;33m)\u001b[0m\u001b[1;33m)\u001b[0m\u001b[1;33m\u001b[0m\u001b[1;33m\u001b[0m\u001b[0m\n\u001b[0m\u001b[0;32m     11\u001b[0m \u001b[1;33m\u001b[0m\u001b[0m\n\u001b[0;32m     12\u001b[0m \u001b[0mprint\u001b[0m\u001b[1;33m(\u001b[0m\u001b[1;34m'The number of features:'\u001b[0m\u001b[1;33m)\u001b[0m\u001b[1;33m\u001b[0m\u001b[1;33m\u001b[0m\u001b[0m\n",
      "\u001b[1;31mNameError\u001b[0m: name 'linnderud' is not defined"
     ]
    }
   ],
   "source": [
    "# YOU ARE REQUIRED TO INSERT YOUR CODES IN THIS CELL\n",
    "'''\n",
    "1. Write your code to find and print out the number of **samples** \n",
    "    and the number of **features** in the dataset.\n",
    "    Using variable X.\n",
    "'''\n",
    "\n",
    "print('The number of samples:')\n",
    "# INSERT YOUR CODE HERE\n",
    "print('Samples within the data set: ',len(linnderud.data))\n",
    "\n",
    "print('The number of features:')\n",
    "# INSERT YOUR CODE HERE\n",
    "print('Features within the data set: ',len(linnderud.feature_names))\n",
    "\n",
    "# 2. Print the feature and label names for the dataset.\n",
    "\n",
    "print('The names of the features are: ',', '.join(linnerud.feature_names))\n",
    "print('The names of the labels are: ',', '.join(linnerud.target_names))"
   ]
  },
  {
   "cell_type": "markdown",
   "metadata": {},
   "source": [
    "**Instruction 1.3.** We also need to get a brief understanding about the task by doing some statistics on the features and labels.\n",
    "\n",
    "**Your tasks are:**\n",
    "\n",
    "1. Write your code to print the **min**, **max**, **median** for each of the features. You need to use a loop in this task. (2 marks)\n",
    "2. Construct a **box-plot** for each of the features. (3 marks)\n",
    "\n",
    "3. Write your code to print the **min**, **max**, **median** for each of the labels. You need to use a loop in this task. (1 marks)\n",
    "4. Construct a **box-plot** for each of the labels. (1 marks)\n",
    "\n",
    "Do not forget to look at the feature and label names and print them in the output accordingly.\n",
    "\n",
    "[**Total marks: 7**]"
   ]
  },
  {
   "cell_type": "code",
   "execution_count": 235,
   "metadata": {},
   "outputs": [
    {
     "name": "stdout",
     "output_type": "stream",
     "text": [
      "Feature name: Sit-ups \n",
      "Min: 50.0 || Max: 251.0 || Median: 122.5\n",
      "\n",
      "Feature name: Chin-ups \n",
      "Min: 1.0 || Max: 17.0 || Median: 11.5\n",
      "\n",
      "Feature name: Jumps \n",
      "Min: 25.0 || Max: 250.0 || Median: 54.0\n"
     ]
    }
   ],
   "source": [
    "# YOU ARE REQUIRED TO INSERT YOUR CODES IN THIS CELL\n",
    "#1. Write your code to print the min, max, median for each of the features. You need to use a loop in this task. \n",
    "# INSERT YOUR CODE HERE\n",
    "\n",
    "#defining data sets\n",
    "Situps=[]\n",
    "Jumps=[]\n",
    "Chins=[]\n",
    "\n",
    "#collecting data sets\n",
    "for i in (linnerud['data']):\n",
    "    Chins.append(i[0])\n",
    "    Situps.append(i[1])\n",
    "    Jumps.append(i[2])\n",
    "\n",
    "#printing out results for minimum, maximum and median.\n",
    "print(f'Feature name: Sit-ups \\nMin: {min(Situps)} || Max: {max(Situps)} || Median: {statistics.median(Situps)}\\n')\n",
    "print(f'Feature name: Chin-ups \\nMin: {min(Chins)} || Max: {max(Chins)} || Median: {statistics.median(Chins)}\\n')\n",
    "print(f'Feature name: Jumps \\nMin: {min(Jumps)} || Max: {max(Jumps)} || Median: {statistics.median(Jumps)}')"
   ]
  },
  {
   "cell_type": "code",
   "execution_count": 236,
   "metadata": {},
   "outputs": [
    {
     "data": {
      "image/png": "[encoded data removed]",
      "text/plain": [
       "<Figure size 432x288 with 1 Axes>"
      ]
     },
     "metadata": {
      "needs_background": "light"
     },
     "output_type": "display_data"
    }
   ],
   "source": [
    "# YOU ARE REQUIRED TO INSERT YOUR CODES IN THIS CELL\n",
    "#2. Construct a box-plot for each of the features.\n",
    "\n",
    "plt.boxplot([Jumps, Situps, Chins],labels=['Jumps', 'Sit-ups', 'Chin-ups'])\n",
    "\n",
    "plt.title ('Features')\n",
    "\n",
    "plt.show()"
   ]
  },
  {
   "cell_type": "code",
   "execution_count": 237,
   "metadata": {},
   "outputs": [
    {
     "name": "stdout",
     "output_type": "stream",
     "text": [
      "Label name: Waist \n",
      "Min: 31.0 || Max: 46.0 || Median: 35.0\n",
      "\n",
      "Label name: Pulse \n",
      "Min: 46.0 || Max: 74.0 || Median: 55.0\n",
      "\n",
      "Label name: Weight \n",
      "Min: 138.0 || Max: 247.0 || Median: 176.0\n",
      "\n"
     ]
    }
   ],
   "source": [
    "# YOU ARE REQUIRED TO INSERT YOUR CODES IN THIS CELL\n",
    "#3. Write your code to print the min, max, median for each of the labels. You need to use a loop in this task. \n",
    "\n",
    "#defining data sets\n",
    "Waist=[]\n",
    "Pulse=[]\n",
    "Weight=[]\n",
    "\n",
    "#collecting data sets\n",
    "for i in (linnerud['target']):\n",
    "    Weight.append(i[0])\n",
    "    Waist.append(i[1])\n",
    "    Pulse.append(i[2])\n",
    "\n",
    "#printing out results for minimum, maximum and median.\n",
    "print(f'Label name: Waist \\nMin: {min(Waist)} || Max: {max(Waist)} || Median: {statistics.median(Waist)}\\n')\n",
    "print(f'Label name: Pulse \\nMin: {min(Pulse)} || Max: {max(Pulse)} || Median: {statistics.median(Pulse)}')\n",
    "print(f'\\nLabel name: Weight \\nMin: {min(Weight)} || Max: {max(Weight)} || Median: {statistics.median(Weight)}\\n')\n"
   ]
  },
  {
   "cell_type": "code",
   "execution_count": 238,
   "metadata": {},
   "outputs": [
    {
     "data": {
      "image/png": "[encoded data removed]",
      "text/plain": [
       "<Figure size 432x288 with 1 Axes>"
      ]
     },
     "metadata": {
      "needs_background": "light"
     },
     "output_type": "display_data"
    }
   ],
   "source": [
    "# YOU ARE REQUIRED TO INSERT YOUR CODES IN THIS CELL\n",
    "#4. Construct a box-plot for each of the features.\n",
    "\n",
    "plt.boxplot([Waist, Weight, Pulse],labels=['Waist', 'Weight', 'Pulse'])\n",
    "\n",
    "plt.show()"
   ]
  },
  {
   "cell_type": "markdown",
   "metadata": {},
   "source": [
    "## Part 1B. Linear Regression\n",
    "\n",
    "You are required to apply Linear Regression to train and make predictions on the **Linnerud** dataset."
   ]
  },
  {
   "cell_type": "markdown",
   "metadata": {},
   "source": [
    "**Note:** To perform a supervised learning task, we need to train the model on a training set of the input data and the correct labels, and predict the trained model on **unseen** data. Then, we use the correct labels of the **unseen** data to evaluate the performance of the model. The **unseen** dataset is called the **test set**.\n",
    "\n",
    "In this part, we will be using one-dimensional linear regression using `Situps` feature and `Waist` label."
   ]
  },
  {
   "cell_type": "markdown",
   "metadata": {},
   "source": [
    "**Instruction 1.4.** First you need to split the required feature and label from the **Linnerud** dataset into a training set and a test set. We will use 70% samples for training and 30% for testing. Print the number of samples in each set.\n",
    "\n",
    "[**Total marks: 5**]"
   ]
  },
  {
   "cell_type": "code",
   "execution_count": 239,
   "metadata": {},
   "outputs": [
    {
     "name": "stdout",
     "output_type": "stream",
     "text": [
      "The number of samples in the training set:\n",
      "Y holds: 14 samples\n",
      "X holds: 14 samples\n",
      "The number of samples in the test set:\n",
      "Y holds: 6 samples\n",
      "X holds: 6 samples\n"
     ]
    }
   ],
   "source": [
    "# YOU ARE REQUIRED TO INSERT YOUR CODES IN THIS CELL\n",
    "X_for_1D_LR = X[:,np.where(np.array([feature_names_X])[0] == 'Situps')[0]]\n",
    "Y_for_1D_LR = Y[:,np.where(np.array([label_names_Y])[0] == 'Waist')[0]]\n",
    "\n",
    "# first, compute the number of samples in the training set:\n",
    "n_train = int(len(Y_for_1D_LR) * 0.7)\n",
    "\n",
    "# The training set is the first n_train samples in the dataset\n",
    "X_train = X_for_1D_LR[: n_train]\n",
    "Y_train = Y_for_1D_LR[: n_train]\n",
    "\n",
    "# The test set is the remaining samples in the dataset\n",
    "X_test = X_for_1D_LR[n_train :]\n",
    "Y_test = Y_for_1D_LR[n_train :]\n",
    "\n",
    "# Print the number of samples in the training set\n",
    "print('The number of samples in the training set:')\n",
    "\n",
    "print('Y holds:', len(Y_train), 'samples')\n",
    "\n",
    "print('X holds:', len(X_train), 'samples')\n",
    "\n",
    "# Print the number of samples in the test set\n",
    "print('The number of samples in the test set:')\n",
    "\n",
    "print('Y holds:', len(Y_test), 'samples')\n",
    "\n",
    "print('X holds:', len(X_test), 'samples')"
   ]
  },
  {
   "cell_type": "markdown",
   "metadata": {},
   "source": [
    "# **Instruction 1.5.** Your tasks are:\n",
    "1. Create a Linear Regression model called `lr`. (5 marks)\n",
    "2. Fit the training data to the model. (5 marks)\n",
    "\n",
    "[**Total marks: 10**]"
   ]
  },
  {
   "cell_type": "code",
   "execution_count": null,
   "metadata": {},
   "outputs": [],
   "source": []
  },
  {
   "cell_type": "code",
   "execution_count": 240,
   "metadata": {},
   "outputs": [],
   "source": [
    "# YOU ARE REQUIRED TO INSERT YOUR CODES IN THIS CELL\n",
    "\n",
    "lr = linear_model.LinearRegression(fit_intercept=True)"
   ]
  },
  {
   "cell_type": "code",
   "execution_count": 241,
   "metadata": {},
   "outputs": [
    {
     "data": {
      "text/plain": [
       "LinearRegression()"
      ]
     },
     "execution_count": 241,
     "metadata": {},
     "output_type": "execute_result"
    }
   ],
   "source": [
    "# YOU ARE REQUIRED TO INSERT YOUR CODES IN THIS CELL\n",
    "\n",
    "lr.fit(X_train, Y_train)"
   ]
  },
  {
   "cell_type": "markdown",
   "metadata": {},
   "source": [
    "**Instruction 1.6** Predict the output of the test set.\n",
    "\n",
    "[**Total marks: 5**]"
   ]
  },
  {
   "cell_type": "code",
   "execution_count": 242,
   "metadata": {
    "scrolled": true
   },
   "outputs": [
    {
     "name": "stdout",
     "output_type": "stream",
     "text": [
      "[[39.1280724 ]\n",
      " [32.60660856]\n",
      " [39.59389124]\n",
      " [31.67497087]\n",
      " [31.90788029]\n",
      " [37.26479701]]\n"
     ]
    }
   ],
   "source": [
    "#Predicition of the output test set.\n",
    "\n",
    "Y_prediction=lr.predict(X_test)\n",
    "\n",
    "print(Y_prediction)"
   ]
  },
  {
   "cell_type": "markdown",
   "metadata": {},
   "source": [
    "**Instruction 1.7** Construct a plot, where you will show the regression line for `Waist` vs `Situps`, the training data (use blue colour), the testing data (use green colour), and the residuals for the testing data.\n",
    "\n",
    "[**Total marks: 5**]"
   ]
  },
  {
   "cell_type": "code",
   "execution_count": 243,
   "metadata": {},
   "outputs": [
    {
     "data": {
      "text/plain": [
       "<matplotlib.collections.PathCollection at 0x1ee146c1670>"
      ]
     },
     "execution_count": 243,
     "metadata": {},
     "output_type": "execute_result"
    },
    {
     "data": {
      "image/png": "[encoded data removed]",
      "text/plain": [
       "<Figure size 432x288 with 1 Axes>"
      ]
     },
     "metadata": {
      "needs_background": "light"
     },
     "output_type": "display_data"
    }
   ],
   "source": [
    "# YOU ARE REQUIRED TO INSERT YOUR CODES IN THIS CELL\n",
    "# Construct a plot, where you will show the regression line for Waist vs Situps, the training data (use blue colour), \n",
    "# the testing data (use green colour), and the residuals for the testing data.\n",
    "\n",
    "plt.plot(X_test, Y_prediction, color='red', linewidth = 1)\n",
    "\n",
    "plt.scatter(X_train, Y_train, color='blue')\n",
    "\n",
    "plt.scatter(X_test, Y_test, color='green')\n"
   ]
  },
  {
   "cell_type": "markdown",
   "metadata": {
    "collapsed": true
   },
   "source": [
    "## Part 1C. Results"
   ]
  },
  {
   "cell_type": "markdown",
   "metadata": {},
   "source": [
    "**Note:** To evaluate the performance of a Linear Regression model, two commonly used measures are **mean absolute error** and **root mean squared error**.\n",
    "\n",
    "**mean absolute error** is defined by:\n",
    "\n",
    "$$mean\\_absolute\\_error(Y_{test}, Y_{pred}) = \\frac{1}{n_{samples}}\\sum_{i=1}^{n_{samples}}|y_{test}^i - y_{pred}^i|$$\n",
    "\n",
    "**root mean squared error** is defined by:\n",
    "\n",
    "$$root\\_mean\\_squared\\_error(Y_{test}, Y_{pred}) = \\sqrt{\\frac{1}{n_{samples}}\\sum_{i=1}^{n_{samples}}(y_{test}^i - y_{pred}^i)^2}$$\n"
   ]
  },
  {
   "cell_type": "markdown",
   "metadata": {},
   "source": [
    "**Instruction 1.8.** Compute **mean absolute error** and **root mean squared error** between the correct labels and the predictions of the test set and print these two values.\n",
    "\n",
    "[**Total marks: 8**]\n",
    "\n",
    "**Hint:** You might need to use [Regression metrics](http://scikit-learn.org/stable/modules/model_evaluation.html#regression-metrics) from sklearn."
   ]
  },
  {
   "cell_type": "code",
   "execution_count": 244,
   "metadata": {},
   "outputs": [
    {
     "name": "stdout",
     "output_type": "stream",
     "text": [
      "(Mean Absolute Error) MAE Value: 2.6328834897177003\n",
      "(Root Mean Squared Error) MSE Value: 9.216976671960381\n"
     ]
    }
   ],
   "source": [
    "# YOU ARE REQUIRED TO INSERT YOUR CODES IN THIS CELL\n",
    "\n",
    "# Compute the mean absolute error between Y_test and Y_pred\n",
    "# Then, print the value\n",
    "\n",
    "MAE = mean_absolute_error(Y_test, Y_prediction)\n",
    "\n",
    "print('(Mean Absolute Error) MAE Value:',MAE)\n",
    "\n",
    "# Compute the root mean squared error between Y_test and Y_pred\n",
    "# Then, print the value\n",
    "\n",
    "MSE = mean_squared_error(Y_test, Y_prediction, squared=True)\n",
    "\n",
    "print('(Root Mean Squared Error) MSE Value:',MSE)\n"
   ]
  },
  {
   "cell_type": "markdown",
   "metadata": {},
   "source": [
    "## Part 1D. More advanced modelling"
   ]
  },
  {
   "cell_type": "markdown",
   "metadata": {},
   "source": [
    "**Instruction 1.9 (D, HD)** As we can see, the dataset has multi-dimensional feature vector. Previously we used only one feature to do one-dimensional linear regression model. In this task, we want to create a **two**-dimensional linear regression model for the label `Weight`. First of all, **using Pearson correlation**, we need to decide, which two of three independent variables would be best to use for Y vector in linear regression. Therefore, your tasks are:\n",
    "1. Write your code to find out which two out of three variables you will be using for linear regression. (5 marks)\n",
    "2. Explain your choice. (5 marks)\n",
    "\n",
    "[**Total marks: 10**]"
   ]
  },
  {
   "cell_type": "code",
   "execution_count": 247,
   "metadata": {},
   "outputs": [
    {
     "name": "stdout",
     "output_type": "stream",
     "text": [
      "Weight and Situps pearson correlation = -0.493\n",
      "Weight and Jumps pearson correlation = -0.226\n",
      "Weight and Chins pearson correlation = -0.39\n"
     ]
    }
   ],
   "source": [
    "# YOU ARE REQUIRED TO INSERT YOUR CODES IN THIS CELL\n",
    "# Write your code to find out which two out of three variable you will be using for linear regression.\n",
    "\n",
    "pr_X = Weight\n",
    "\n",
    "pr_Y = Chins\n",
    "\n",
    "pr_Y1 = Situps\n",
    "\n",
    "pr_Y2 = Jumps\n",
    "\n",
    "#Pearsons Correalation formual  = covariance(X, Y) / (standard_deviation(X)*standard_deviation(Y))\n",
    "#Using Scipy module \n",
    "corr1, _ = pearsonr(pr_X,pr_Y1)\n",
    "\n",
    "corr2, _ = pearsonr(pr_X,pr_Y2)\n",
    "\n",
    "corr, _ = pearsonr(pr_X, pr_Y)\n",
    "\n",
    "#Outputs\n",
    "print('Weight and Situps pearson correlation =' , round(corr1, 3))\n",
    "\n",
    "print('Weight and Jumps pearson correlation =' , round(corr2, 3))\n",
    "\n",
    "print('Weight and Chins pearson correlation =' , round(corr, 3))"
   ]
  },
  {
   "cell_type": "code",
   "execution_count": 248,
   "metadata": {},
   "outputs": [
    {
     "data": {
      "text/plain": [
       "'\\nThe Reason for my choice in using this pearsons correlation is, it works alot easier to detect variables and get better \\nestimates from specific data sets. \\n'"
      ]
     },
     "execution_count": 248,
     "metadata": {},
     "output_type": "execute_result"
    }
   ],
   "source": [
    "# YOU ARE REQUIRED TO INSERT YOUR COMMENT IN THIS CELL\n",
    "# INSERT YOUR COMMENT HERE\n",
    "\n",
    "'''\n",
    "The Reason for my choice in using this pearsons correlation is, it works alot easier to detect variables and get better \n",
    "estimates from specific data sets. \n",
    "'''"
   ]
  },
  {
   "cell_type": "markdown",
   "metadata": {},
   "source": [
    "**Instruction 1.10 (D, HD)** After we have decided, which features are best to use for linear regression, we need to create training and testing data, where the feature vector is two-dimensional and the label is `Weight`. Also, we will need to compare the two-dimensional linear regression (based on two best independent variables) with on-dimensional linear regression (based on the best independent variable). Therefore, we will need to create a dataset with one-dimensional feature vector for comparison.\n",
    "\n",
    "Your task is:\n",
    "1. Create the training and testing datasets for two-dimensional linear regression. (4 marks)\n",
    "2. Create the one-dimensional training and testing dataset for comparison with 2D linear regression. (1 mark)\n",
    "\n",
    "[**Total marks: 5**]"
   ]
  },
  {
   "cell_type": "code",
   "execution_count": 249,
   "metadata": {},
   "outputs": [
    {
     "name": "stdout",
     "output_type": "stream",
     "text": [
      "2D Training Set (Y) holds:  14  ||  1D Training Set (Y) holds:  14\n",
      "\n",
      "2D Training Set (X) holds:  14   ||   1D training set (X) holds:  14\n",
      "\n",
      "2D Test Set (Y) holds:  6  ||  1D Test Set (Y) holds:  6\n",
      "\n",
      "2D test set (X) holds:  6   ||   1D test set (X) holds:  6\n"
     ]
    }
   ],
   "source": [
    "# YOU ARE REQUIRED TO INSERT YOUR CODES IN THIS CELL\n",
    "X_for_2D_LR = X[:, np.where(np.array([feature_names_X])[0] == 'Chins')[0]]\n",
    "\n",
    "X1_for_2D_LR = X[:, np.where(np.array([feature_names_X])[0] == 'Situps')[0]]\n",
    "\n",
    "Y_for_2D = Y[:, np.where(np.array([label_names_Y])[0] == 'Weight')[0]]\n",
    "\n",
    "X_2D = np.concatenate((X_for_2D_LR, X1_for_2D_LR), axis= 1)\n",
    "\n",
    "\n",
    "\n",
    "# first, compute the number of samples in the training set:\n",
    "n_train_D = int(len(Y_for_2D) * 0.7)\n",
    "\n",
    "\n",
    "# The training set is the first n_train samples in the dataset\n",
    "Y_2D_train = Y_for_2D[: n_train_D]\n",
    "\n",
    "X_2D_train = X_2D[: n_train_D]\n",
    "\n",
    "Y_1D_train = Y_for_2D[: n_train_D]\n",
    "\n",
    "X_1D_train = X1_for_2D_LR[: n_train_D]\n",
    "\n",
    "\n",
    "# The test set is the remaining samples in the dataset\n",
    "Y_2D_test = Y_for_2D[n_train_D: ]\n",
    "\n",
    "X_2D_test = X_2D[n_train_D: ]\n",
    "\n",
    "Y_1D_test = Y_for_2D[n_train_D: ]\n",
    "\n",
    "X_1D_test = X1_for_2D_LR[n_train_D: ]\n",
    "\n",
    "\n",
    "# The 1D comparison dataset\n",
    "print('2D Training Set (Y) holds: ', len(Y_2D_train), ' || ', '1D Training Set (Y) holds: ', len(Y_1D_train))\n",
    "\n",
    "print('\\n2D Training Set (X) holds: ', len(X_2D_train), '  ||  ', '1D training set (X) holds: ', len(X_1D_train))\n",
    "\n",
    "print('\\n2D Test Set (Y) holds: ', len(Y_2D_test), ' || ', '1D Test Set (Y) holds: ', len(Y_1D_test))\n",
    "\n",
    "print('\\n2D test set (X) holds: ', len(X_2D_test), '  ||  ', '1D test set (X) holds: ', len(X_1D_test))\n"
   ]
  },
  {
   "cell_type": "markdown",
   "metadata": {},
   "source": [
    "**Instruction 1.11 (D, HD)** We have the training and testing data now. Therefore, your tasks are:\n",
    "1. Create a linear regression model named `lr2d`. (1 mark)\n",
    "2. Fit the training data to the model. (1 mark)\n",
    "3. Predict the output on the test set. (1 mark)\n",
    "4. Compute **mean absolute error** and **root mean squared error** between the correct labels and the predictions of the test set and print these two values. (1 mark)\n",
    "\n",
    "[**Total marks: 4**]"
   ]
  },
  {
   "cell_type": "code",
   "execution_count": 250,
   "metadata": {},
   "outputs": [],
   "source": [
    "lr2d = linear_model.LinearRegression()"
   ]
  },
  {
   "cell_type": "code",
   "execution_count": 251,
   "metadata": {},
   "outputs": [
    {
     "data": {
      "text/plain": [
       "LinearRegression()"
      ]
     },
     "execution_count": 251,
     "metadata": {},
     "output_type": "execute_result"
    }
   ],
   "source": [
    "# YOU ARE REQUIRED TO INSERT YOUR CODES IN THIS CELL\n",
    "lr2d.fit(X_2D_train, Y_2D_train)"
   ]
  },
  {
   "cell_type": "code",
   "execution_count": 252,
   "metadata": {},
   "outputs": [
    {
     "name": "stdout",
     "output_type": "stream",
     "text": [
      "Output of the 2D test set:  [[203.25327332]\n",
      " [165.29945713]\n",
      " [208.44333154]\n",
      " [162.80729498]\n",
      " [157.51436979]\n",
      " [201.42413076]]\n"
     ]
    }
   ],
   "source": [
    "# YOU ARE REQUIRED TO INSERT YOUR CODES IN THIS CELL\n",
    "Y_2D_predict = lr2d.predict(X_2D_test)\n",
    "print('Output of the 2D test set: ', Y_2D_predict)"
   ]
  },
  {
   "cell_type": "code",
   "execution_count": 254,
   "metadata": {},
   "outputs": [
    {
     "name": "stdout",
     "output_type": "stream",
     "text": [
      "Mean Absolute Error (MAE) between test set and prediction set is 25.02382387723671\n",
      "Root Mean Squared Error (RMS) between test set and prediction set is 33.073825440702585\n"
     ]
    }
   ],
   "source": [
    "mae_2D = metrics.mean_absolute_error(Y_2D_test, Y_2D_predict)\n",
    "print('Mean Absolute Error (MAE) between test set and prediction set is', mae_2D)\n",
    "\n",
    "#Uses the math libary to calculate.\n",
    "mse_2D = metrics.mean_squared_error(Y_2D_test, Y_2D_predict)\n",
    "\n",
    "rmse_2D = math.sqrt(mse_2D)\n",
    "\n",
    "print('Root Mean Squared Error (RMS) between test set and prediction set is', rmse_2D)"
   ]
  },
  {
   "cell_type": "markdown",
   "metadata": {},
   "source": [
    "**Instruction 1.12 (D, HD)** Now we can compare the errors for two-dimensional linear regression with one-dimensional linear regression. Your tasks are:\n",
    "1. Create a linear regression model named `lr1d_compare`. Fit the one-dimensional training data and the same labels to the model. Predict the output on the comparison dataset. (1 mark)\n",
    "2. Compute **mean absolute error** and **root mean squared error** between the correct labels and the predictions of the comparison set and print these two values. (1 mark)\n",
    "3. Discuss the findings and explain the result. In discussion, consider the relationships between the size of the dataset, the Pearson correlation coefficients you have calculated above, the `Weight` values and the values of errors. (4 marks)\n",
    "\n",
    "[**Total marks: 6**]"
   ]
  },
  {
   "cell_type": "code",
   "execution_count": 255,
   "metadata": {},
   "outputs": [
    {
     "name": "stdout",
     "output_type": "stream",
     "text": [
      "Predictable output of the 1D test set is:  [[204.30396271]\n",
      " [161.96890724]\n",
      " [207.32789524]\n",
      " [155.92104217]\n",
      " [157.43300844]\n",
      " [192.20823258]]\n"
     ]
    }
   ],
   "source": [
    "# YOU ARE REQUIRED TO INSERT YOUR CODES IN THIS CELL\n",
    "lr1d_compare = linear_model.LinearRegression()\n",
    "\n",
    "\n",
    "lr1d_compare.fit(X_1D_train, Y_1D_train)\n",
    "Y_1D_predict = lr1d_compare.predict(X_1D_test)\n",
    "\n",
    "#Output\n",
    "print('Predictable output of the 1D test set is: ', Y_1D_predict)"
   ]
  },
  {
   "cell_type": "code",
   "execution_count": 258,
   "metadata": {},
   "outputs": [
    {
     "name": "stdout",
     "output_type": "stream",
     "text": [
      "The MSE (Mean Absolute Error) of the test set and prediction set is:\n",
      " 23.230524926073866\n",
      "\n",
      "The RMSE (Root Mean Squared Error) of the test set and prediction set is:\n",
      " 30.69596912485682\n"
     ]
    }
   ],
   "source": [
    "# YOU ARE REQUIRED TO INSERT YOUR CODES IN THIS CELL\n",
    "mae_1D = metrics.mean_absolute_error(Y_1D_test, Y_1D_predict)\n",
    "\n",
    "print('The MSE (Mean Absolute Error) of the test set and prediction set is:\\n', mae_1D)\n",
    "\n",
    "\n",
    "mse_1D = metrics.mean_squared_error(Y_1D_test, Y_1D_predict)\n",
    "\n",
    "rmse_1D = math.sqrt(mse_1D)\n",
    "\n",
    "print('\\nThe RMSE (Root Mean Squared Error) of the test set and prediction set is:\\n', rmse_1D)"
   ]
  },
  {
   "cell_type": "code",
   "execution_count": 259,
   "metadata": {},
   "outputs": [
    {
     "data": {
      "text/plain": [
       "\"\\nThe size of the dataset's can possibly effect the value of Pearson's Correlation Coefficients, \\nsuch as a variable labeled (Y). \\nA bigger sample size will help in getting a more accurate value of of said Variable (Y). \\n\\nMean Absolute Error is a model evaluation metric used with regression models with respect to a test set \\nis the mean of the absolute values of the individual prediction errors on over all instances in the test set. \\nLower values of the MAE, better performance of the model/s will occur. \\n\\nRoot Mean Square Error(RMSE) is used to measure the difference between the sample/population values. \\nRMSE is more useful when large numbers of errors are present which will affect the model's performance. \\nIn this metric also, the lower the value, the better the performance of the model.\\n\""
      ]
     },
     "execution_count": 259,
     "metadata": {},
     "output_type": "execute_result"
    }
   ],
   "source": [
    "'''\n",
    "The size of the dataset's can possibly effect the value of Pearson's Correlation Coefficients, \n",
    "such as a variable labeled (Y). \n",
    "A bigger sample size will help in getting a more accurate value of of said Variable (Y). \n",
    "\n",
    "Mean Absolute Error is a model evaluation metric used with regression models with respect to a test set \n",
    "is the mean of the absolute values of the individual prediction errors on over all instances in the test set. \n",
    "Lower values of the MAE, better performance of the model/s will occur. \n",
    "\n",
    "Root Mean Square Error(RMSE) is used to measure the difference between the sample/population values. \n",
    "RMSE is more useful when large numbers of errors are present which will affect the model's performance. \n",
    "In this metric also, the lower the value, the better the performance of the model.\n",
    "'''"
   ]
  },
  {
   "cell_type": "markdown",
   "metadata": {},
   "source": [
    "# <span style=\"color:#0b486b\">Part 2: Classification</span>\n",
    "\n",
    "In this part, you will be required to apply Naive Bayes algorithm for the classification task on the **breast cancer** dataset from sklearn. More about the dataset can be found [here](http://scikit-learn.org/stable/modules/generated/sklearn.datasets.load_breast_cancer.html#sklearn.datasets.load_breast_cancer). \n",
    "\n",
    "Here, we apply Multinomial Naive Bayes for discrete features. We can construct a Multinomial Naive Bayes model by calling **naive_bayes.MultinomialNB()** from sklearn package. More about the model can be found [here](http://scikit-learn.org/stable/modules/generated/sklearn.naive_bayes.MultinomialNB.html#sklearn.naive_bayes.MultinomialNB)\n"
   ]
  },
  {
   "cell_type": "markdown",
   "metadata": {},
   "source": [
    "## Part 2A: Load and examine the dataset"
   ]
  },
  {
   "cell_type": "markdown",
   "metadata": {},
   "source": [
    "**Instruction 2.1.** Write your code to load the **breast cancer** dataset from sklearn and assign it to a variable called `cancer`.\n",
    "\n",
    "[**Total mark: 1**]"
   ]
  },
  {
   "cell_type": "code",
   "execution_count": 159,
   "metadata": {},
   "outputs": [
    {
     "name": "stdout",
     "output_type": "stream",
     "text": [
      "dict_keys(['data', 'target', 'frame', 'target_names', 'DESCR', 'feature_names', 'filename'])\n"
     ]
    }
   ],
   "source": [
    "# YOU ARE REQUIRED TO INSERT YOUR CODES IN THIS CELL\n",
    "'''\n",
    "1. Write your code to load the dataset from sklearn and assign it to a variable called `cancer`.\n",
    "'''\n",
    "cancer =  datasets.load_breast_cancer()\n",
    "\n",
    "print(cancer.keys())"
   ]
  },
  {
   "cell_type": "markdown",
   "metadata": {},
   "source": [
    "**Note:** The cell code below assigns the data to variable `X` and the labels to variable `Y`. Run the cell and use `X` and `Y` for later tasks."
   ]
  },
  {
   "cell_type": "code",
   "execution_count": 160,
   "metadata": {},
   "outputs": [],
   "source": [
    "X = cancer['data']\n",
    "Y = cancer['target']"
   ]
  },
  {
   "cell_type": "markdown",
   "metadata": {},
   "source": [
    "**Instruction 2.2.** Now you need to examine the size of data. Write your code to find and print out the number of **samples** and the number of **features** in the dataset.\n",
    "\n",
    "[**Total mark: 1**]"
   ]
  },
  {
   "cell_type": "code",
   "execution_count": 162,
   "metadata": {},
   "outputs": [
    {
     "name": "stdout",
     "output_type": "stream",
     "text": [
      "The number of features:\n",
      "30\n",
      "The number of samples:\n",
      "569\n"
     ]
    }
   ],
   "source": [
    "# YOU ARE REQUIRED TO INSERT YOUR CODES IN THIS CELL\n",
    "'''\n",
    "2. Write your code to find and print out the number of **samples** \n",
    "    and the number of **features** in the dataset.\n",
    "    Using variable X.\n",
    "'''\n",
    "print('The number of features:')\n",
    "\n",
    "print(len(cancer['feature_names']))\n",
    "\n",
    "print('The number of samples:')\n",
    "\n",
    "print(len(X))\n",
    "\n"
   ]
  },
  {
   "cell_type": "markdown",
   "metadata": {},
   "source": [
    "**Instruction 2.3.** The following code segment is designed to do some statistics on the labels to get a brief understanding about the prediction task. This is a classication task, it is important to know the number of categories (or number of classes) in the dataset and their frequencies.\n",
    "\n",
    "**Your tasks are:**\n",
    "\n",
    "1. Write your code to compute and print the number of classes in the dataset. (1 marks)\n",
    "2. Write your code to compute and print the number of occurrences of each class. (3 marks)\n",
    "\n",
    "[**Total marks: 4**]"
   ]
  },
  {
   "cell_type": "code",
   "execution_count": 163,
   "metadata": {},
   "outputs": [
    {
     "name": "stdout",
     "output_type": "stream",
     "text": [
      "The number of classes in the dataset using the variable(Y): 2\n"
     ]
    }
   ],
   "source": [
    "# YOU ARE REQUIRED TO INSERT YOUR CODES IN THIS CELL\n",
    "'''\n",
    "1. Write your code to compute and print the number of classes in the dataset.\n",
    "    Using variable Y.\n",
    "'''\n",
    "\n",
    "# compute and print the number of classes.\n",
    "print('The number of classes in the dataset using the variable(Y):',len(np.unique(Y)))"
   ]
  },
  {
   "cell_type": "code",
   "execution_count": 93,
   "metadata": {},
   "outputs": [
    {
     "name": "stdout",
     "output_type": "stream",
     "text": [
      "The class: malignant \n",
      "Has shown up this amount of times: 212\n",
      "The class: benign \n",
      "Has shown up this amount of times: 357\n"
     ]
    }
   ],
   "source": [
    "# YOU ARE REQUIRED TO INSERT YOUR CODES IN THIS CELL\n",
    "'''\n",
    "2. Write your code to compute and print the number of occurrences of each class.\n",
    "'''\n",
    "\n",
    "# compute and print the number of occurrences of each class\n",
    "unique_fellas, count = np.unique(cancer['target'], return_counts=True)\n",
    "\n",
    "print('The class:', (cancer.target_names[0]), '\\nHas shown up this amount of times:', count[0])\n",
    "\n",
    "print('The class:', (cancer.target_names[1]), '\\nHas shown up this amount of times:', count[1])"
   ]
  },
  {
   "cell_type": "markdown",
   "metadata": {},
   "source": [
    "## Part 2B. Classification with Naive Bayes\n",
    "\n",
    "You are required to apply Naive Bayes to train and make predictions on the **breast cancer** dataset."
   ]
  },
  {
   "cell_type": "markdown",
   "metadata": {},
   "source": [
    "Multinomial Naive Bayes classifier is used for discrete data. The features of the breast cancer dataset are however real values. The function below discretise the features in to 0 (low), 1 (middle) and 2 (high). Run the cell below."
   ]
  },
  {
   "cell_type": "code",
   "execution_count": 171,
   "metadata": {},
   "outputs": [],
   "source": [
    "def discretise(X):\n",
    "    # for each feature, values smaller than 33% percentile are set by 0 (low), \n",
    "    # from 33% to 67% percentile are set by 1 (middle) and other are set by 2 (high).\n",
    "    \n",
    "    n_feats = X.shape[-1]\n",
    "    X_discrete = np.zeros(X.shape)\n",
    "    \n",
    "    for i in range(n_feats):\n",
    "        # compute val1 and val2 as the percentile of 33% and 67%, respectively of the column i\n",
    "        val1, val2 = np.percentile(X[:, i], 33), np.percentile(X[:, i], 67)   \n",
    "        \n",
    "        # increase all discrete values by 1 for all values in X that larger than val1\n",
    "        ids = np.where(X[:, i] > val1)[0]\n",
    "        X_discrete[ids, i] += 1\n",
    "        \n",
    "        # increase all discrete values by 1 for all values in X that larger than val2\n",
    "        ids = np.where(X[:, i] > val2)[0]\n",
    "        X_discrete[ids, i] += 1\n",
    "        \n",
    "    return X_discrete\n"
   ]
  },
  {
   "cell_type": "markdown",
   "metadata": {},
   "source": [
    "Then we call the discretise function for the feature X. Run the cell below and your data are ready for classification."
   ]
  },
  {
   "cell_type": "code",
   "execution_count": 172,
   "metadata": {},
   "outputs": [],
   "source": [
    "X = discretise(X)"
   ]
  },
  {
   "cell_type": "markdown",
   "metadata": {},
   "source": [
    "**Instruction 2.4.** Similar to **Part 1**, you need to split the dataset into a training set and a test set. We will use 70% samples for training and 30% for testing. Print the number of samples in each set.\n",
    "\n",
    "[**Total marks: 2**]"
   ]
  },
  {
   "cell_type": "code",
   "execution_count": 173,
   "metadata": {},
   "outputs": [
    {
     "name": "stdout",
     "output_type": "stream",
     "text": [
      "The number of samples in the training set:\n",
      "\n",
      "X holds: 398 samples  ||  Y holds: 398 samples\n",
      "\n",
      "The number of samples in the test set:\n",
      "\n",
      "X holds: 171 samples  ||   Y holds: 171 samples\n"
     ]
    }
   ],
   "source": [
    "# YOU ARE REQUIRED TO INSERT YOUR CODES IN THIS CELL\n",
    "\n",
    "# first, compute the number of samples in the training set:\n",
    "n_train = int(len(Y) * 0.7)\n",
    "\n",
    "# The training set is the first n_train samples in the dataset\n",
    "Y_train = Y[: n_train]\n",
    "X_train = X[: n_train]\n",
    "\n",
    "# The test set is the remaining samples in the dataset\n",
    "Y_test = Y[n_train :]\n",
    "X_test = X[n_train :]\n",
    "\n",
    "# Print the number of samples in the training set\n",
    "print('The number of samples in the training set:')\n",
    "\n",
    "print('\\nX holds:', len(X_train), 'samples  || ', 'Y holds:', len(Y_train), 'samples')\n",
    "\n",
    "# Print the number of samples in the test set\n",
    "print('\\nThe number of samples in the test set:')\n",
    "\n",
    "print('\\nX holds:', len(X_test), 'samples  ||  ', 'Y holds:', len(Y_test), 'samples')\n"
   ]
  },
  {
   "cell_type": "markdown",
   "metadata": {},
   "source": [
    "**Instruction 2.5.** Create a Multinomial Naive Bayes model called `mnb`.\n",
    "\n",
    "[**Total marks: 2**]"
   ]
  },
  {
   "cell_type": "code",
   "execution_count": 174,
   "metadata": {},
   "outputs": [],
   "source": [
    "# YOU ARE REQUIRED TO INSERT YOUR CODES IN THIS CELL\n",
    "# INSERT YOUR CODE HERE\n",
    "\n",
    "mnb = MultinomialNB()"
   ]
  },
  {
   "cell_type": "markdown",
   "metadata": {},
   "source": [
    "**Instruction 2.6.** Fit the training data to the model.\n",
    "\n",
    "[**Total marks: 2**]"
   ]
  },
  {
   "cell_type": "code",
   "execution_count": 175,
   "metadata": {},
   "outputs": [
    {
     "data": {
      "text/plain": [
       "MultinomialNB()"
      ]
     },
     "execution_count": 175,
     "metadata": {},
     "output_type": "execute_result"
    }
   ],
   "source": [
    "# YOU ARE REQUIRED TO INSERT YOUR CODES IN THIS CELL\n",
    "# INSERT YOUR CODE HERE\n",
    "\n",
    "mnb.fit(X_train, Y_train)"
   ]
  },
  {
   "cell_type": "markdown",
   "metadata": {},
   "source": [
    "**Instruction 2.7** Predict the output of the test set.\n",
    "\n",
    "[**Total marks: 2**]"
   ]
  },
  {
   "cell_type": "code",
   "execution_count": 176,
   "metadata": {},
   "outputs": [
    {
     "name": "stdout",
     "output_type": "stream",
     "text": [
      "The Prediction Output:  [1 1 0 0 1 0 1 1 0 1 0 1 1 1 1 0 0 1 1 0 1 1 1 1 1 0 1 1 1 1 1 0 0 1 0 0 0\n",
      " 0 1 1 0 0 1 0 0 1 0 1 0 0 0 0 1 0 1 1 0 0 1 0 0 1 0 0 0 1 0 0 0 1 0 1 1 1\n",
      " 0 1 1 0 0 0 1 0 1 0 1 0 0 1 0 0 1 0 0 0 0 1 1 0 1 0 0 0 0 1 1 0 1 1 1 1 0\n",
      " 0 1 0 0 0 0 1 0 0 0 1 1 0 1 1 1 1 0 0 1 1 1 1 0 0 1 0 0 1 1 1 1 0 0 0 1 0\n",
      " 1 1 1 1 1 1 1 1 1 1 1 1 0 1 1 1 0 0 0 0 0 0 1]\n"
     ]
    }
   ],
   "source": [
    "Y_pred = mnb.predict(X_test)\n",
    "\n",
    "print('The Prediction Output: ', mnb.predict(X_test))"
   ]
  },
  {
   "cell_type": "markdown",
   "metadata": {
    "collapsed": true
   },
   "source": [
    "## Part 2C. Results and Visualization"
   ]
  },
  {
   "cell_type": "markdown",
   "metadata": {},
   "source": [
    "**Note:** To evaluate the performance of a classification task, commonly used measures are **accuracy**, **precision**, **recall** and **f1-score**."
   ]
  },
  {
   "cell_type": "markdown",
   "metadata": {},
   "source": [
    "**Instruction 2.8.** Compute the **accuracy**, **precision**, **recall** and **f1-score** of the predictions on the test set and print these values.\n",
    "\n",
    "[**Total marks: 8**]\n",
    "\n",
    "**Hint:** You might need to see [Classification metrics](http://scikit-learn.org/stable/modules/model_evaluation.html#classification-metrics) from sklearn."
   ]
  },
  {
   "cell_type": "code",
   "execution_count": 177,
   "metadata": {},
   "outputs": [
    {
     "name": "stdout",
     "output_type": "stream",
     "text": [
      "Accuracy of predictions on the test set score is: 0.7309941520467836\n",
      "\n",
      "Precision of predictions on the test set score is: 0.9886363636363636\n",
      "\n",
      "Recall of predicitions on the test set score is: 0.6590909090909091\n",
      "\n",
      "F1-score of predictions on the test set: 0.790909090909091\n"
     ]
    }
   ],
   "source": [
    "# YOU ARE REQUIRED TO INSERT YOUR CODES IN THIS CELL\n",
    "\n",
    "# Compute and print the accuracy of predictions on the test set\n",
    "\n",
    "print('Accuracy of predictions on the test set score is:', accuracy_score(Y_test, Y_pred))\n",
    "\n",
    "\n",
    "# Compute and print the precision of predictions on the test set\n",
    "print('\\nPrecision of predictions on the test set score is:', precision_score(Y_test, Y_pred))\n",
    "\n",
    "\n",
    "# Compute and print the recall of predictions on the test set\n",
    "print('\\nRecall of predicitions on the test set score is:', recall_score(Y_test, Y_pred))\n",
    "\n",
    "\n",
    "# Compute and print the f1-score of predictions on the test set\n",
    "print('\\nF1-score of predictions on the test set:', f1_score(Y_test, Y_pred))"
   ]
  },
  {
   "cell_type": "markdown",
   "metadata": {},
   "source": [
    "**Note:** We have evaluated the performance of the classification task by different measures. Now, we want to visualise the data as well as the predicted labels. [t-SNE](http://scikit-learn.org/stable/modules/generated/sklearn.manifold.TSNE.html) is a tool to convert high-dimensional data into low-dimensional ones. To visualise the data, we can use t-SNE to reduce the data dimension to 2D.\n",
    "\n",
    "The following function `reduce_to_2D` takes the matrix X of size (n_samples, n_features) and returns a matrix of size (n_samples, 2), which is a dimension-reduced version of X. **You will need this function for a subsequent task**."
   ]
  },
  {
   "cell_type": "code",
   "execution_count": 178,
   "metadata": {},
   "outputs": [],
   "source": [
    "def reduce_to_2D(X):\n",
    "    tsne = TSNE(n_components=2, random_state=1)\n",
    "    new_X = tsne.fit_transform(X)\n",
    "    return new_X"
   ]
  },
  {
   "cell_type": "markdown",
   "metadata": {},
   "source": [
    "**Instruction 2.9**. Visualisation.\n",
    "\n",
    "**Your tasks are:**\n",
    "\n",
    "1. Create a variable named `X_test_2D` that is the dimension-reduced version of X_test using function `reduce_to_2D`. (4 marks)\n",
    "\n",
    "2. Visualise `X_test_2D` using scatter() with the colors being the corresponding predicted labels. (4 marks)\n",
    "\n",
    "\n",
    "[**Total mark: 8**]"
   ]
  },
  {
   "cell_type": "code",
   "execution_count": 179,
   "metadata": {},
   "outputs": [],
   "source": [
    "# YOU ARE REQUIRED TO INSERT YOUR CODES IN THIS CELL\n",
    "'''\n",
    "1. Create a variable named `X_test_2D` \n",
    "    that is the dimension-reduced version of X_test using function `reduce_to_2D`.\n",
    "'''\n",
    "\n",
    "X_test_2D = reduce_to_2D(X_test)"
   ]
  },
  {
   "cell_type": "code",
   "execution_count": 184,
   "metadata": {},
   "outputs": [
    {
     "data": {
      "image/png": "[encoded data removed]",
      "text/plain": [
       "<Figure size 432x288 with 1 Axes>"
      ]
     },
     "metadata": {
      "needs_background": "light"
     },
     "output_type": "display_data"
    }
   ],
   "source": [
    "# YOU ARE REQUIRED TO INSERT YOUR CODES IN THIS CELL\n",
    "'''\n",
    "2. Visualise `X_test_2D` by scatters with the colors being the corresponding predicted labels.\n",
    "'''\n",
    "\n",
    "colormap = np.array(['g','b'])\n",
    "#x = x_test_2d\n",
    "\n",
    "plt.title('Visualisation (2D)')\n",
    "plt.scatter(X_test_2D[:,0], X_test_2D[:,1], c=colormap[Y_pred])\n",
    "\n",
    "plt.show()"
   ]
  },
  {
   "cell_type": "code",
   "execution_count": null,
   "metadata": {},
   "outputs": [],
   "source": [
    "'''\n",
    "Thanks for your time this trimester.\n",
    "'''"
   ]
  },
  {
   "cell_type": "code",
   "execution_count": null,
   "metadata": {},
   "outputs": [],
   "source": []
  }
 ],
 "metadata": {
  "kernelspec": {
   "display_name": "Python 3",
   "language": "python",
   "name": "python3"
  },
  "language_info": {
   "codemirror_mode": {
    "name": "ipython",
    "version": 3
   },
   "file_extension": ".py",
   "mimetype": "text/x-python",
   "name": "python",
   "nbconvert_exporter": "python",
   "pygments_lexer": "ipython3",
   "version": "3.8.3"
  }
 },
 "nbformat": 4,
 "nbformat_minor": 1
}
